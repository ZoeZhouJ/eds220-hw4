{
 "cells": [
  {
   "cell_type": "markdown",
   "metadata": {},
   "source": [
    "## Visualizing the 2017 Thomas Fire Using Landsat Imagery and AQI Data\n",
    "\n",
    "Author: Zoe Zhou\n",
    "\n",
    "[GitHub Repository with Full Analysis](https://github.com/ZoeZhouJ/eds220-hwk4.git)\n",
    "\n",
    "![thomas fire in 2017](https://eoimages.gsfc.nasa.gov/images/imagerecords/91000/91387/ventura_er2_2017339.jpg)\n",
    "Image credits: NASA\n",
    "\n",
    "**About**\n",
    "\n",
    "The Thomas Fire, which burned from December 2017 to January 2018, was one of the largest wildfires in modern California history. It consumed 281,893 acres across Santa Barbara and Ventura counties, destroying hundreds of structures and significantly impacting local ecology and regional air quality. This blog post combines two analytical perspectives: Landsat satellite imagery for visualizing burn scars and vegetation health, and EPA Air Quality Index (AQI) data for assessing fire-related air quality impacts. \n",
    "\n",
    "**Highlights** \n",
    "\n",
    "\n"
   ]
  }
 ],
 "metadata": {
  "language_info": {
   "name": "python"
  }
 },
 "nbformat": 4,
 "nbformat_minor": 2
}
