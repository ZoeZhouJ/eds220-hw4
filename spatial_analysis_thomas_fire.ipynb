{
 "cells": [
  {
   "cell_type": "markdown",
   "metadata": {},
   "source": [
    "## Visualizing the 2017 Thomas Fire Using Landsat Imagery and AQI Data\n",
    "\n",
    "Author: Zoe Zhou\n",
    "\n",
    "[GitHub Repository with Full Analysis](https://github.com/ZoeZhouJ/eds220-hwk4.git)\n",
    "\n",
    "![thomas fire in 2017](https://eoimages.gsfc.nasa.gov/images/imagerecords/91000/91387/ventura_er2_2017339.jpg)\n",
    "Image credits: NASA\n",
    "\n",
    "### About\n",
    "\n",
    "The Thomas Fire, which burned from December 2017 to January 2018, was one of the largest wildfires in modern California history. It consumed 281,893 acres across Santa Barbara and Ventura counties, destroying hundreds of structures and significantly impacting local ecology and regional air quality. This blog post combines two analytical approaches: Landsat satellite imagery for visualizing burn scars and vegetation health, and EPA Air Quality Index (AQI) data for assessing fire-related air quality impacts. \n",
    "\n",
    "### Highlights\n",
    "\n",
    "1. **False-Color Imaging**: Visualized vegetation health and burn scars using Landsat multispectral bands, revealing insights into fire severity and ecological recovery. \n",
    "\n",
    "2. **Air Quality Assessment**: Quantified the Thomas FIre's impact on AQI in Santa Barbara County, using time-series data to illustrate pollution trends during and after the fire. \n",
    "\n",
    "3. **Integrated Geospatial Analysis**: Leveraged Python libraries for geospatial processing, including `geopandas`, `xarray`, and `rasterio`.\n",
    "\n",
    "### Datasets\n",
    "\n",
    "- Landsat Surface Reflectance Data  \n",
    "Source: [Microsoft Planetary Computer - Landsat Collection 2 Level-2](https://planetarycomputer.microsoft.com/dataset/landsat-c2-l2) \n",
    "This data contains Red, Green, Blue (RGB), Near-Infrared(NIR), and Shortwave Infrared (SWIR) bands. Pre-processed to remove data outside study area and coarsen the spatial resolution. False color image created by using the short-wave infrared (swir22), near-infrared, and red variables.\n",
    "\n",
    "- Air Quality Index (AQI) Data\n",
    "Source: [Environmental Protection Agancy (EPA) - Air Data](https://www.epa.gov/outdoor-air-quality-data)\n",
    "This data contains daily AQI values for Santa Barbara County from 2017 to 2018. \n",
    "\n"
   ]
  },
  {
   "cell_type": "code",
   "execution_count": null,
   "metadata": {},
   "outputs": [],
   "source": []
  },
  {
   "cell_type": "markdown",
   "metadata": {},
   "source": []
  },
  {
   "cell_type": "markdown",
   "metadata": {},
   "source": []
  },
  {
   "cell_type": "markdown",
   "metadata": {},
   "source": []
  }
 ],
 "metadata": {
  "language_info": {
   "name": "python"
  }
 },
 "nbformat": 4,
 "nbformat_minor": 2
}
